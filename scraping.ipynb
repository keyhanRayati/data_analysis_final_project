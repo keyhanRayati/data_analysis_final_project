{
 "cells": [
  {
   "cell_type": "code",
   "execution_count": 2,
   "metadata": {},
   "outputs": [],
   "source": [
    "import os\n",
    "from selenium import webdriver\n",
    "from datetime import date\n",
    "from selenium.webdriver.common.by import By\n",
    "from selenium.webdriver.support.ui import WebDriverWait\n",
    "from selenium.webdriver.support import expected_conditions as EC\n",
    "from selenium.webdriver.common.keys import Keys\n",
    "import time\n",
    "import pandas as pd\n",
    "import numpy as np\n",
    "import re\n",
    "import time\n",
    "import datetime"
   ]
  },
  {
   "cell_type": "code",
   "execution_count": 9,
   "metadata": {
    "tags": []
   },
   "outputs": [
    {
     "name": "stderr",
     "output_type": "stream",
     "text": [
      "C:\\Users\\Keyhan\\AppData\\Local\\Temp\\ipykernel_31836\\3709099830.py:3: DeprecationWarning: executable_path has been deprecated, please pass in a Service object\n",
      "  driver = webdriver.Chrome(executable_path=DRIVER_PATH)\n"
     ]
    }
   ],
   "source": [
    "DRIVER_PATH = './chromedriver'\n",
    "\n",
    "driver = webdriver.Chrome(executable_path=DRIVER_PATH)\n",
    "driver.maximize_window()\n",
    "\n",
    "driver.get('https://coinmarketcap.com/currencies/ethereum/historical-data/')\n",
    "\n",
    "search_waits = WebDriverWait(driver, 10)\n",
    "\n",
    "select_table = '#__next > div > div.main-content > div.sc-1a736df3-0.PimrZ.cmc-body-wrapper > div > div.sc-aef7b723-0.geHuRS.container > div > div > div.history > div.sc-41086a84-2.kIfwNf > table'\n",
    "\n",
    "button_selector = 'button.ccMCCm:nth-child(1)'\n",
    "\n",
    "\n",
    "time.sleep(30)\n",
    "\n",
    "i = 0\n",
    "while i <= 140:\n",
    "    search_waits.until(EC.element_to_be_clickable((By.CSS_SELECTOR, button_selector)))\n",
    "    button = driver.find_element(By.CSS_SELECTOR, button_selector)\n",
    "    driver.execute_script(\"arguments[0].click();\", button)\n",
    "    i += 1\n",
    "\n",
    "search_waits.until(EC.element_to_be_clickable((By.CSS_SELECTOR, select_table)))\n",
    "table = driver.find_element(By.CSS_SELECTOR, select_table)\n",
    "\n",
    "body = table.find_element(By.TAG_NAME, 'tbody')\n",
    "\n",
    "trs = body.find_elements(By.TAG_NAME, 'tr')\n",
    "\n",
    "data = []\n",
    "for tr in trs:\n",
    "    tds = tr.find_elements(By.TAG_NAME, 'td')\n",
    "    data.append({\n",
    "        'date': tds[0].text,\n",
    "        'open': float(tds[1].text.replace('$', '').replace(',', '')),\n",
    "        'high': float(tds[2].text.replace('$', '').replace(',', '')),\n",
    "        'low': float(tds[3].text.replace('$', '').replace(',', '')),\n",
    "        'close': float(tds[4].text.replace('$', '').replace(',', '')),\n",
    "        'volume': float(tds[5].text.replace('$', '').replace(',', '')),\n",
    "        'market cap': float(tds[6].text.replace('$', '').replace(',', ''))\n",
    "    })\n",
    "        \n",
    "driver.close()"
   ]
  },
  {
   "cell_type": "code",
   "execution_count": 12,
   "metadata": {},
   "outputs": [
    {
     "data": {
      "text/plain": [
       "2722"
      ]
     },
     "execution_count": 12,
     "metadata": {},
     "output_type": "execute_result"
    }
   ],
   "source": [
    "len(data)"
   ]
  },
  {
   "cell_type": "code",
   "execution_count": 14,
   "metadata": {},
   "outputs": [],
   "source": [
    "df = pd.DataFrame(data)\n",
    "\n",
    "df.to_csv('eth-1d-2.csv')"
   ]
  },
  {
   "cell_type": "code",
   "execution_count": null,
   "metadata": {},
   "outputs": [],
   "source": []
  }
 ],
 "metadata": {
  "kernelspec": {
   "display_name": "Python 3",
   "language": "python",
   "name": "python3"
  },
  "language_info": {
   "codemirror_mode": {
    "name": "ipython",
    "version": 3
   },
   "file_extension": ".py",
   "mimetype": "text/x-python",
   "name": "python",
   "nbconvert_exporter": "python",
   "pygments_lexer": "ipython3",
   "version": "3.11.1 (tags/v3.11.1:a7a450f, Dec  6 2022, 19:58:39) [MSC v.1934 64 bit (AMD64)]"
  },
  "orig_nbformat": 2,
  "vscode": {
   "interpreter": {
    "hash": "f4ce232bd8377bbc618d4278a54ba5431737abb181553a726d8a10f5d7eb8f0d"
   }
  }
 },
 "nbformat": 4,
 "nbformat_minor": 2
}
