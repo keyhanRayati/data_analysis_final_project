{
 "cells": [
  {
   "cell_type": "code",
   "execution_count": 1,
   "id": "d818089d",
   "metadata": {},
   "outputs": [],
   "source": [
    "import pandas as pd\n",
    "import numpy as np\n",
    "import matplotlib.pyplot as plt\n",
    "%matplotlib inline\n",
    "from sklearn import preprocessing\n",
    "from sklearn.model_selection import train_test_split\n",
    "from sklearn.ensemble import RandomForestClassifier"
   ]
  },
  {
   "cell_type": "code",
   "execution_count": 2,
   "id": "d2da974f",
   "metadata": {},
   "outputs": [],
   "source": [
    "df=pd.read_csv(\"Downloads/BTC-USD.csv\")"
   ]
  },
  {
   "cell_type": "code",
   "execution_count": 3,
   "id": "ff5a1ab2",
   "metadata": {},
   "outputs": [
    {
     "data": {
      "text/plain": [
       "<AxesSubplot:>"
      ]
     },
     "execution_count": 3,
     "metadata": {},
     "output_type": "execute_result"
    },
    {
     "data": {
      "image/png": "[encoded data removed]",
      "text/plain": [
       "<Figure size 432x288 with 1 Axes>"
      ]
     },
     "metadata": {
      "needs_background": "light"
     },
     "output_type": "display_data"
    }
   ],
   "source": [
    "df.head(10)\n",
    "df['Adj Close'].plot()"
   ]
  },
  {
   "cell_type": "code",
   "execution_count": 19,
   "id": "c11c0503",
   "metadata": {},
   "outputs": [
    {
     "name": "stdout",
     "output_type": "stream",
     "text": [
      "[[61460.078125 62541.46875  60844.609375 61125.675781]\n",
      " [61068.875    61590.683594 60163.78125  61527.480469]\n",
      " [61554.921875 63326.988281 61432.488281 63326.988281]\n",
      " ...\n",
      " [20162.689453 20382.095703 20086.240234 20209.988281]\n",
      " [20208.769531 21209.560547 20188.019531 21147.230469]\n",
      " [21165.160156 21445.326172 21106.419922 21377.064453]]\n"
     ]
    },
    {
     "data": {
      "text/plain": [
       "numpy.ndarray"
      ]
     },
     "execution_count": 19,
     "metadata": {},
     "output_type": "execute_result"
    }
   ],
   "source": [
    "x=df[['Open','High','Low','Close']].values\n",
    "\n",
    "y=df['Adj Close'].values\n",
    " \n",
    "\n",
    "x_train, x_test, y_train, y_test = train_test_split(x, y, test_size=0.26,  random_state=0)\n",
    "print(x)\n",
    "type(x)\n"
   ]
  },
  {
   "cell_type": "code",
   "execution_count": 20,
   "id": "e9960f39",
   "metadata": {},
   "outputs": [],
   "source": [
    "from sklearn.ensemble import RandomForestRegressor\n",
    "regressor = RandomForestRegressor(n_estimators=20, random_state=0)\n",
    "regressor.fit(x_train, y_train)\n",
    "y_pred = regressor.predict(x_test)\n",
    "#print(y_pred)"
   ]
  },
  {
   "cell_type": "code",
   "execution_count": 21,
   "id": "9a93eb2b",
   "metadata": {},
   "outputs": [],
   "source": [
    "from sklearn.preprocessing import StandardScaler\n",
    "scale = StandardScaler()\n",
    "x_train = scale.fit_transform(x_train)\n",
    "x_test = scale.transform(x_test)\n"
   ]
  },
  {
   "cell_type": "code",
   "execution_count": 22,
   "id": "40c54c3e",
   "metadata": {},
   "outputs": [
    {
     "name": "stdout",
     "output_type": "stream",
     "text": [
      "[40069.69869166 22845.55185753 46728.53482826 57184.98521863\n",
      " 35725.17198445 19338.44593108 37070.97379745 22490.59771101\n",
      " 19243.54085144 64919.92071116 39395.56195064 44473.1468478\n",
      " 21210.09226173 23211.22693552 20100.8833374  29799.95729708\n",
      " 20266.73573591 42573.59424983 22523.21270719 44272.20097675\n",
      " 46297.5130704  29115.61235568 46524.66686066 21586.08899222\n",
      " 19790.4282971  20778.84827362 43928.80108753 19571.00534149\n",
      " 39168.67184389 30891.60778127 41798.12583607 44216.00020719\n",
      " 58955.41206267 50412.06917192 46504.94458335 65658.91312515\n",
      " 45922.42901582 41016.27707057 22652.16049232 41760.52570319\n",
      " 31023.98927735 19919.31387434 29935.44770731 22601.45023451\n",
      " 57204.69403895 18845.43963211 30910.79801173 30944.52407425\n",
      " 19304.83136021 41929.18641416 39229.19497655 24723.7585314\n",
      " 20295.2990446  40470.94362522 41484.88787103 47027.18442323\n",
      " 50629.82788307 41428.66561727 36989.55735947 40630.41752349\n",
      " 19122.2434081  22993.64755285 64352.32768767 42211.25484971\n",
      " 19428.52295398 19181.41885999 46314.40291789 38086.0786111\n",
      " 28512.50108606 41184.97178153 42343.40637104 39472.37580613\n",
      " 37736.46591184 20088.31218414 41682.49365621 20220.46657477\n",
      " 19281.67349162 19450.80155052 21813.67937494 19443.99980481\n",
      " 55335.56341426 47360.64668761 45797.99067217 50700.21114875\n",
      " 20156.53788675 19152.48128806 21622.05439073 28680.04201955\n",
      " 23296.97994524 24264.90064034 21525.34746904 54233.25947666\n",
      " 29992.16173855 19977.78421489 29568.20688289 41244.1063752 ]\n",
      "(96,)\n"
     ]
    }
   ],
   "source": [
    "model = RandomForestRegressor(n_estimators=500, random_state=42, min_samples_split=2, min_samples_leaf=1, max_depth=10, bootstrap=True)\n",
    "model.fit(x_train, y_train)\n",
    "predict = model.predict(x_test)\n",
    "print(predict)\n",
    "print(predict.shape)"
   ]
  },
  {
   "cell_type": "code",
   "execution_count": 23,
   "id": "5566ce8a",
   "metadata": {},
   "outputs": [
    {
     "name": "stdout",
     "output_type": "stream",
     "text": [
      "Fitting 3 folds for each of 200 candidates, totalling 600 fits\n",
      "{'random_state': 2, 'n_estimators': 100, 'min_samples_split': 2, 'min_samples_leaf': 1, 'max_depth': 9, 'bootstrap': False}\n"
     ]
    }
   ],
   "source": [
    "from sklearn.model_selection import RandomizedSearchCV\n",
    "grid_rf = {\n",
    "'n_estimators': [20, 50, 100, 500, 1000],  \n",
    "'max_depth': np.arange(1, 15, 1),  \n",
    "'min_samples_split': [2, 10, 9], \n",
    "'min_samples_leaf': np.arange(1, 15, 2, dtype=int),  \n",
    "'bootstrap': [True, False], \n",
    "'random_state': [1, 2, 30, 42]\n",
    "}\n",
    "rscv = RandomizedSearchCV(estimator=model, param_distributions=grid_rf, cv=3, n_jobs=-1, verbose=2, n_iter=200)\n",
    "rscv_fit = rscv.fit(x_train, y_train)\n",
    "best_parameters = rscv_fit.best_params_\n",
    "print(best_parameters)"
   ]
  },
  {
   "cell_type": "code",
   "execution_count": 26,
   "id": "0278a9ef",
   "metadata": {},
   "outputs": [
    {
     "name": "stdout",
     "output_type": "stream",
     "text": [
      "[40102.16976594 22765.29812514 46764.42447933 57071.06960924\n",
      " 35567.8432813  19327.854004   37106.7578125  22513.65078125\n",
      " 19214.99619134 65237.457969   39397.51605468 44342.91523444\n",
      " 21231.65625    23212.81065433 20099.94043    29847.01589882\n",
      " 20241.089844   42469.28295605 22559.9896682  44346.40000012\n",
      " 46764.42447933 29083.804688   46453.566406   21603.552246\n",
      " 19812.371094   20723.038086   43948.97005233 19581.725586\n",
      " 39172.84757826 31199.86923831 41796.23261731 44351.15195332\n",
      " 60310.117344   50533.24859375 46453.566406   66261.17539074\n",
      " 45724.98898474 41143.929688   22715.24710961 41795.35863291\n",
      " 31376.83222662 19880.06457043 29842.81535198 22565.36552754\n",
      " 57071.06960924 18793.73007836 31199.86923831 31438.38457038\n",
      " 19278.36653667 41781.55371104 39214.21875    23746.5010159\n",
      " 20293.51237    40553.464844   41444.7767577  47128.003906\n",
      " 50598.12679714 41492.18308605 36877.591797   40538.9207032\n",
      " 19149.13869131 22931.43871116 65018.049219   42195.58800799\n",
      " 19415.05957    19146.9015624  46368.897656   38132.1712505\n",
      " 28360.810547   41143.929688   42407.74218775 39397.51605468\n",
      " 37722.7526367  20099.94043    41564.79164052 20241.089844\n",
      " 19278.36653667 19415.05957    22140.76343731 19522.98912745\n",
      " 54861.97269559 47226.54820332 45555.992188   50722.16234418\n",
      " 20160.716797   19163.83982418 21614.4436524  28537.08041017\n",
      " 23312.40953112 24336.86570275 21514.955391   54914.76035163\n",
      " 29845.81574258 19970.42316431 29464.02640618 41143.929688  ]\n",
      "(96,)\n"
     ]
    }
   ],
   "source": [
    "model = RandomForestRegressor(n_estimators=100, random_state=2, min_samples_split=2, min_samples_leaf=1, max_depth=9, bootstrap=False)\n",
    "model.fit(x_train, y_train)\n",
    "predict = model.predict(x_test)\n",
    "print(predict)\n",
    "print(predict.shape)"
   ]
  },
  {
   "cell_type": "code",
   "execution_count": 27,
   "id": "6dcfa8d1",
   "metadata": {},
   "outputs": [
    {
     "name": "stdout",
     "output_type": "stream",
     "text": [
      "Mean Absolute Error: 162.329\n",
      "Mean Squared Error: 108998.9667\n",
      "Root Mean Squared Error: 330.1499\n",
      "(R^2) Score: 0.9993\n",
      "Train Score : 100.00% and Test Score : 99.93% using Random Tree Regressor.\n",
      "Accuracy: 99.53 %.\n"
     ]
    }
   ],
   "source": [
    "from sklearn import metrics\n",
    "print(\"Mean Absolute Error:\", round(metrics.mean_absolute_error(y_test, predict), 4))\n",
    "print(\"Mean Squared Error:\", round(metrics.mean_squared_error(y_test, predict), 4))\n",
    "print(\"Root Mean Squared Error:\", round(np.sqrt(metrics.mean_squared_error(y_test, predict)), 4))\n",
    "print(\"(R^2) Score:\", round(metrics.r2_score(y_test, predict), 4))\n",
    "print(f'Train Score : {model.score(x_train, y_train) * 100:.2f}% and Test Score : {model.score(x_test, y_test) * 100:.2f}% using Random Tree Regressor.')\n",
    "errors = abs(predict - y_test)\n",
    "mape = 100 * (errors / y_test)\n",
    "accuracy = 100 - np.mean(mape)\n",
    "print('Accuracy:', round(accuracy, 2), '%.') "
   ]
  },
  {
   "cell_type": "code",
   "execution_count": 28,
   "id": "6e05626a",
   "metadata": {},
   "outputs": [],
   "source": [
    "predictions = pd.DataFrame({\"Predictions\": predict}, index=pd.date_range(start=df.index[-1], periods=len(predict), freq=\"D\"))\n",
    "predictions.to_csv(\"Predicted-price-data.csv\")\n",
    "#colllects future days from predicted values\n",
    "oneyear_df = pd.DataFrame(predictions[:252])\n",
    "oneyear_df.to_csv(\"one-year-predictions.csv\")\n",
    "onemonth_df = pd.DataFrame(predictions[:21])\n",
    "onemonth_df.to_csv(\"one-month-predictions.csv\")\n",
    "fivedays_df = pd.DataFrame(predictions[:5])\n",
    "fivedays_df.to_csv(\"five-days-predictions.csv\")"
   ]
  },
  {
   "cell_type": "code",
   "execution_count": 29,
   "id": "9014bb88",
   "metadata": {},
   "outputs": [
    {
     "ename": "KeyError",
     "evalue": "\"None of ['Date'] are in the columns\"",
     "output_type": "error",
     "traceback": [
      "\u001b[1;31m---------------------------------------------------------------------------\u001b[0m",
      "\u001b[1;31mKeyError\u001b[0m                                  Traceback (most recent call last)",
      "Input \u001b[1;32mIn [29]\u001b[0m, in \u001b[0;36m<cell line: 2>\u001b[1;34m()\u001b[0m\n\u001b[0;32m      1\u001b[0m oneyear_df_pred \u001b[38;5;241m=\u001b[39m pd\u001b[38;5;241m.\u001b[39mread_csv(\u001b[38;5;124m\"\u001b[39m\u001b[38;5;124mone-year-predictions.csv\u001b[39m\u001b[38;5;124m\"\u001b[39m)\n\u001b[1;32m----> 2\u001b[0m \u001b[43moneyear_df_pred\u001b[49m\u001b[38;5;241;43m.\u001b[39;49m\u001b[43mset_index\u001b[49m\u001b[43m(\u001b[49m\u001b[38;5;124;43m\"\u001b[39;49m\u001b[38;5;124;43mDate\u001b[39;49m\u001b[38;5;124;43m\"\u001b[39;49m\u001b[43m,\u001b[49m\u001b[43m \u001b[49m\u001b[43minplace\u001b[49m\u001b[38;5;241;43m=\u001b[39;49m\u001b[38;5;28;43;01mTrue\u001b[39;49;00m\u001b[43m)\u001b[49m\n\u001b[0;32m      3\u001b[0m buy_price \u001b[38;5;241m=\u001b[39m \u001b[38;5;28mmin\u001b[39m(oneyear_df_pred[\u001b[38;5;124m\"\u001b[39m\u001b[38;5;124mPredictions\u001b[39m\u001b[38;5;124m\"\u001b[39m])\n\u001b[0;32m      4\u001b[0m sell_price \u001b[38;5;241m=\u001b[39m \u001b[38;5;28mmax\u001b[39m(oneyear_df_pred[\u001b[38;5;124m\"\u001b[39m\u001b[38;5;124mPredictions\u001b[39m\u001b[38;5;124m\"\u001b[39m])\n",
      "File \u001b[1;32m~\\anaconda3\\lib\\site-packages\\pandas\\util\\_decorators.py:311\u001b[0m, in \u001b[0;36mdeprecate_nonkeyword_arguments.<locals>.decorate.<locals>.wrapper\u001b[1;34m(*args, **kwargs)\u001b[0m\n\u001b[0;32m    305\u001b[0m \u001b[38;5;28;01mif\u001b[39;00m \u001b[38;5;28mlen\u001b[39m(args) \u001b[38;5;241m>\u001b[39m num_allow_args:\n\u001b[0;32m    306\u001b[0m     warnings\u001b[38;5;241m.\u001b[39mwarn(\n\u001b[0;32m    307\u001b[0m         msg\u001b[38;5;241m.\u001b[39mformat(arguments\u001b[38;5;241m=\u001b[39marguments),\n\u001b[0;32m    308\u001b[0m         \u001b[38;5;167;01mFutureWarning\u001b[39;00m,\n\u001b[0;32m    309\u001b[0m         stacklevel\u001b[38;5;241m=\u001b[39mstacklevel,\n\u001b[0;32m    310\u001b[0m     )\n\u001b[1;32m--> 311\u001b[0m \u001b[38;5;28;01mreturn\u001b[39;00m func(\u001b[38;5;241m*\u001b[39margs, \u001b[38;5;241m*\u001b[39m\u001b[38;5;241m*\u001b[39mkwargs)\n",
      "File \u001b[1;32m~\\anaconda3\\lib\\site-packages\\pandas\\core\\frame.py:5494\u001b[0m, in \u001b[0;36mDataFrame.set_index\u001b[1;34m(self, keys, drop, append, inplace, verify_integrity)\u001b[0m\n\u001b[0;32m   5491\u001b[0m                 missing\u001b[38;5;241m.\u001b[39mappend(col)\n\u001b[0;32m   5493\u001b[0m \u001b[38;5;28;01mif\u001b[39;00m missing:\n\u001b[1;32m-> 5494\u001b[0m     \u001b[38;5;28;01mraise\u001b[39;00m \u001b[38;5;167;01mKeyError\u001b[39;00m(\u001b[38;5;124mf\u001b[39m\u001b[38;5;124m\"\u001b[39m\u001b[38;5;124mNone of \u001b[39m\u001b[38;5;132;01m{\u001b[39;00mmissing\u001b[38;5;132;01m}\u001b[39;00m\u001b[38;5;124m are in the columns\u001b[39m\u001b[38;5;124m\"\u001b[39m)\n\u001b[0;32m   5496\u001b[0m \u001b[38;5;28;01mif\u001b[39;00m inplace:\n\u001b[0;32m   5497\u001b[0m     frame \u001b[38;5;241m=\u001b[39m \u001b[38;5;28mself\u001b[39m\n",
      "\u001b[1;31mKeyError\u001b[0m: \"None of ['Date'] are in the columns\""
     ]
    }
   ],
   "source": [
    "oneyear_df_pred = pd.read_csv(\"one-year-predictions.csv\")\n",
    "oneyear_df_pred.set_index(\"Date\", inplace=True)\n",
    "buy_price = min(oneyear_df_pred[\"Predictions\"])\n",
    "sell_price = max(oneyear_df_pred[\"Predictions\"])\n",
    "oneyear_buy = oneyear_df_pred.loc[oneyear_df_pred[\"Predictions\"] == buy_price]\n",
    "oneyear_sell = oneyear_df_pred.loc[oneyear_df_pred[\"Predictions\"] == sell_price]\n",
    "print(\"Buy price and date\")\n",
    "print(oneyear_buy)\n",
    "print(\"Sell price and date\")\n",
    "print(oneyear_sell)\n",
    "oneyear_df_pred[\"Predictions\"].plot(figsize=(10, 5), title=\"Forecast for the next 1 year\", color=\"blue\")\n",
    "plt.xlabel(\"Date\")\n",
    "plt.ylabel(\"Price\")\n",
    "plt.legend()\n",
    "plt.show()"
   ]
  },
  {
   "cell_type": "code",
   "execution_count": null,
   "id": "c3f6a2c9",
   "metadata": {},
   "outputs": [],
   "source": [
    "oneyear_df_pred = pd.read_csv(\"one-month-predictions.csv\")\n",
    "oneyear_df_pred.set_index(\"Date\", inplace=True)\n",
    "buy_price = min(oneyear_df_pred[\"Predictions\"])\n",
    "sell_price = max(oneyear_df_pred[\"Predictions\"])\n",
    "oneyear_buy = oneyear_df_pred.loc[oneyear_df_pred[\"Predictions\"] == buy_price]\n",
    "oneyear_sell = oneyear_df_pred.loc[oneyear_df_pred[\"Predictions\"] == sell_price]\n",
    "print(\"Buy price and date\")\n",
    "print(oneyear_buy)\n",
    "print(\"Sell price and date\")\n",
    "print(oneyear_sell)\n",
    "oneyear_df_pred[\"Predictions\"].plot(figsize=(10, 5), title=\"Forecast for the next 1 year\", color=\"blue\")\n",
    "plt.xlabel(\"Date\")\n",
    "plt.ylabel(\"Price\")\n",
    "plt.legend()\n",
    "plt.show()"
   ]
  },
  {
   "cell_type": "code",
   "execution_count": null,
   "id": "a19bd3ae",
   "metadata": {},
   "outputs": [],
   "source": [
    "fivedays_df_pred = pd.read_csv(\"five-days-predictions.csv\")\n",
    "fivedays_df_pred.set_index(\"Date\", inplace=True)\n",
    "buy_price = min(fivedays_df_pred[\"Predictions\"])\n",
    "sell_price = max(fivedays_df_pred[\"Predictions\"])\n",
    "fivedays_buy = fivedays_df_pred.loc[fivedays_df_pred[\"Predictions\"] == buy_price]\n",
    "fivedays_sell = fivedays_df_pred.loc[fivedays_df_pred[\"Predictions\"] == sell_price]\n",
    "print(\"Buy price and date\")\n",
    "print(fivedays_buy)\n",
    "print(\"Sell price and date\")\n",
    "print(fivedays_sell)\n",
    "fivedays_df_pred[\"Predictions\"].plot(figsize=(10, 5), title=\"Forecast for the next 5 days\", color=\"blue\")\n",
    "plt.xlabel(\"Date\")\n",
    "plt.ylabel(\"Price\")\n",
    "plt.legend()\n",
    "plt.show()"
   ]
  },
  {
   "cell_type": "code",
   "execution_count": null,
   "id": "f8a79561",
   "metadata": {},
   "outputs": [],
   "source": []
  }
 ],
 "metadata": {
  "kernelspec": {
   "display_name": "Python 3",
   "language": "python",
   "name": "python3"
  },
  "language_info": {
   "codemirror_mode": {
    "name": "ipython",
    "version": 3
   },
   "file_extension": ".py",
   "mimetype": "text/x-python",
   "name": "python",
   "nbconvert_exporter": "python",
   "pygments_lexer": "ipython3",
   "version": "3.11.1 (tags/v3.11.1:a7a450f, Dec  6 2022, 19:58:39) [MSC v.1934 64 bit (AMD64)]"
  },
  "vscode": {
   "interpreter": {
    "hash": "f4ce232bd8377bbc618d4278a54ba5431737abb181553a726d8a10f5d7eb8f0d"
   }
  }
 },
 "nbformat": 4,
 "nbformat_minor": 5
}
